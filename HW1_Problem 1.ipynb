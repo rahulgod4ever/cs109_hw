{
 "metadata": {
  "name": "",
  "signature": "sha256:ada834761375ad171e3692156deebe8859fcf8c6d89b168138fc64e428b8438a"
 },
 "nbformat": 3,
 "nbformat_minor": 0,
 "worksheets": [
  {
   "cells": [
    {
     "cell_type": "code",
     "collapsed": false,
     "input": [
      "%matplotlib inline\n",
      "\n",
      "import matplotlib.pyplot as plt\n",
      "import StringIO\n",
      "from zipfile import ZipFile\n",
      "import requests\n",
      "import pandas as pd\n",
      "import scipy.stats"
     ],
     "language": "python",
     "metadata": {},
     "outputs": [],
     "prompt_number": 344
    },
    {
     "cell_type": "code",
     "collapsed": false,
     "input": [
      "zip_url = 'http://seanlahman.com/files/database/lahman-csv_2014-02-14.zip'\n",
      "\n",
      "zippedfile = requests.get(zip_url)\n"
     ],
     "language": "python",
     "metadata": {},
     "outputs": [],
     "prompt_number": 345
    },
    {
     "cell_type": "code",
     "collapsed": false,
     "input": [
      "\n",
      "output = StringIO.StringIO()\n",
      "\n",
      "salaries = pd.DataFrame()\n",
      "teams = pd.DataFrame()\n",
      "\n",
      "\n",
      "with ZipFile(StringIO.StringIO(zippedfile.content),'r') as unzipped:\n",
      "    salaries = pd.read_csv(unzipped.open('Salaries.csv'))\n",
      "    teams = pd.read_csv(unzipped.open('Teams.csv'))\n",
      "\n"
     ],
     "language": "python",
     "metadata": {},
     "outputs": [],
     "prompt_number": 346
    },
    {
     "cell_type": "code",
     "collapsed": false,
     "input": [
      "teamIDs = set([teamID for teamID in salaries.teamID])\n",
      "yearIDs = set([yearID for yearID in salaries.yearID])\n",
      "\n",
      "sum_salary = pd.DataFrame(columns=teamIDs, index=yearIDs)\n",
      "\n",
      "#initialize to Zero\n",
      "for t in teamIDs:\n",
      "    for y in yearIDs:\n",
      "        sum_salary[t][y]=0\n",
      "\n",
      "#Create df with total salaries for a given team and given year as entries\n",
      "for i,r in salaries.iterrows():\n",
      "    sum_salary[r['teamID']][r['yearID']] = sum_salary[r['teamID']][r['yearID']] + r['salary']"
     ],
     "language": "python",
     "metadata": {},
     "outputs": [],
     "prompt_number": 347
    },
    {
     "cell_type": "code",
     "collapsed": false,
     "input": [
      "#Add new salary column to teams df\n",
      "\n",
      "teams['salary']=0\n",
      "\n",
      "\n",
      "for i,r in teams.iterrows():\n",
      "    teamID = r['teamID']\n",
      "    yearID = r['yearID']\n",
      "    if teamID in sum_salary.columns and yearID in sum_salary.index:\n",
      "        teams.loc[i,'salary'] = sum_salary[teamID][yearID]"
     ],
     "language": "python",
     "metadata": {},
     "outputs": [],
     "prompt_number": 348
    },
    {
     "cell_type": "code",
     "collapsed": false,
     "input": [
      "def CreateSalWinPlot(year):\n",
      "    maxwins=0\n",
      "    minwins=10**9\n",
      "    maxsalary=0\n",
      "    minsalary=10**9\n",
      "    \n",
      "    salaries_arr = []\n",
      "    wins_arr = []\n",
      "    \n",
      "    for i,r in teams.iterrows():\n",
      "            if r['yearID']==year:\n",
      "                salary=r['salary']\n",
      "                wins=r['W']\n",
      "                if(salary>0):\n",
      "                    plt.annotate(r['teamID'],(r['salary'],r['W']))\n",
      "                    salaries_arr.append(salary)\n",
      "                    wins_arr.append(wins)\n",
      "                if wins>maxwins:\n",
      "                    maxwins=wins\n",
      "                if wins<minwins:\n",
      "                    minwins=wins\n",
      "                if salary>maxsalary:\n",
      "                    maxsalary=salary\n",
      "                if salary<minsalary:\n",
      "                    minsalary=salary\n",
      "    \n",
      "    plt.axis([minsalary,maxsalary,minwins,maxwins])\n",
      "    \n",
      "    \n",
      "    slope, intercept, r, p, stderr = scipy.stats.linregress(salaries_arr,wins_arr)\n",
      "    plt.plot([minsalary,maxsalary],[minsalary*slope + intercept, maxsalary*slope + intercept])\n",
      "    slope = slope + stderr\n",
      "    plt.plot([minsalary,maxsalary],[minsalary*slope + intercept , maxsalary*slope + intercept])\n",
      "    slope = slope - 2*stderr\n",
      "    plt.plot([minsalary,maxsalary],[minsalary*slope + intercept , maxsalary*slope + intercept ])\n",
      "    \n",
      "    plt.xlabel(\"Salary\")\n",
      "    plt.ylabel(\"Wins\")\n",
      "    plt.title(\"Plot for %i\" % year)"
     ],
     "language": "python",
     "metadata": {},
     "outputs": [],
     "prompt_number": 351
    },
    {
     "cell_type": "code",
     "collapsed": false,
     "input": [
      "CreateSalWinPlot(input(\"Enter year: \"))"
     ],
     "language": "python",
     "metadata": {},
     "outputs": [
      {
       "name": "stdout",
       "output_type": "stream",
       "stream": "stdout",
       "text": [
        "Enter year: 1991\n"
       ]
      },
      {
       "metadata": {},
       "output_type": "display_data",
       "png": "[encoded data removed]",
       "text": [
        "<matplotlib.figure.Figure at 0x11d8a940>"
       ]
      }
     ],
     "prompt_number": 352
    }
   ],
   "metadata": {}
  }
 ]
}
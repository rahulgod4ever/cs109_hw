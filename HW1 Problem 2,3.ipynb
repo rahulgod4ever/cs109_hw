{
 "metadata": {
  "name": "",
  "signature": "sha256:90ffd7672d67e9dbb25a00ae53deda71aac54db6974af66f25701d4dfc0c72c6"
 },
 "nbformat": 3,
 "nbformat_minor": 0,
 "worksheets": [
  {
   "cells": [
    {
     "cell_type": "code",
     "collapsed": false,
     "input": [
      "%matplotlib inline\n",
      "\n",
      "import pandas as pd\n",
      "import matplotlib.pyplot as plt"
     ],
     "language": "python",
     "metadata": {},
     "outputs": [],
     "prompt_number": 4
    },
    {
     "cell_type": "code",
     "collapsed": false,
     "input": [
      "countries_url = 'https://github.com/cs109/2014_data/raw/master/countries.csv'\n",
      "countries_raw = pd.read_csv(countries_url)\n",
      "countries = set([country for country in countries_raw['Country']])"
     ],
     "language": "python",
     "metadata": {},
     "outputs": [],
     "prompt_number": 5
    },
    {
     "cell_type": "code",
     "collapsed": false,
     "input": [
      "ppp_url = 'http://spreadsheets.google.com/pub?key=phAwcNAVuyj1jiMAkmq1iMg&output=xls'\n",
      "ppp = pd.read_excel(ppp_url)"
     ],
     "language": "python",
     "metadata": {},
     "outputs": [],
     "prompt_number": 6
    },
    {
     "cell_type": "code",
     "collapsed": false,
     "input": [
      "years = []\n",
      "for i in range(1,len(ppp.columns)):\n",
      "    years.append(ppp.columns[i])"
     ],
     "language": "python",
     "metadata": {},
     "outputs": [],
     "prompt_number": 7
    },
    {
     "cell_type": "code",
     "collapsed": false,
     "input": [
      "data = pd.DataFrame(columns = countries, index = years)\n",
      "\n",
      "#index by country\n",
      "ppp.index = ppp['gdp pc 2011 ppp']\n",
      "\n",
      "ppp.head()\n",
      "#create data\n",
      "for country in countries:\n",
      "    for year in years:\n",
      "        if country in ppp.index:\n",
      "            data[country][year]=ppp[year][country]\n",
      "            "
     ],
     "language": "python",
     "metadata": {},
     "outputs": [],
     "prompt_number": 8
    },
    {
     "cell_type": "code",
     "collapsed": false,
     "input": [
      "import math\n",
      "from pylab import *\n",
      "import numpy as np\n",
      "\n",
      "def TextPlot(value,labels):\n",
      "    max_value = max(value)\n",
      "    max_label_length = max([len(s) for s in labels])\n",
      "    for i in range(len(value)):\n",
      "        print labels[i].ljust(max_label_length),\" \" ,\"\u2550\"*int(value[i]*100/max_value)\n",
      "    \n",
      "def plotforyear(year):\n",
      "    lcountry = []\n",
      "    lincome = []\n",
      "    \n",
      "    for country in data.columns:\n",
      "        if not math.isnan(data[country][year]):\n",
      "            lcountry.append(country)\n",
      "            lincome.append(data[country][year])\n",
      "    TextPlot(lincome,lcountry)  \n",
      "plotforyear(2000)"
     ],
     "language": "python",
     "metadata": {},
     "outputs": [
      {
       "output_type": "stream",
       "stream": "stdout",
       "text": [
        "Canada                             \u2550\u2550\u2550\u2550\u2550\u2550\u2550\u2550\u2550\u2550\u2550\u2550\u2550\u2550\u2550\u2550\u2550\u2550\u2550\u2550\u2550\u2550\u2550\u2550\u2550\u2550\u2550\u2550\u2550\u2550\u2550\u2550\u2550\u2550\u2550\u2550\u2550\u2550\u2550\u2550\n",
        "Sao Tome and Principe              \u2550\u2550\n",
        "Turkmenistan                       \u2550\u2550\u2550\u2550\u2550\n",
        "Lithuania                          \u2550\u2550\u2550\u2550\u2550\u2550\u2550\u2550\u2550\u2550\u2550\u2550\u2550\n",
        "Cambodia                           \u2550\n",
        "Ethiopia                           \n",
        "Swaziland                          \u2550\u2550\u2550\u2550\u2550\n",
        "Belize                             \u2550\u2550\u2550\u2550\u2550\u2550\u2550\u2550\n",
        "Argentina                          \u2550\u2550\u2550\u2550\u2550\u2550\u2550\u2550\u2550\u2550\u2550\u2550\n",
        "Bolivia                            \u2550\u2550\u2550\u2550\n",
        "Cameroon                           \u2550\u2550\n",
        "Ghana                              \u2550\u2550\n",
        "Saudi Arabia                       \u2550\u2550\u2550\u2550\u2550\u2550\u2550\u2550\u2550\u2550\u2550\u2550\u2550\u2550\u2550\u2550\u2550\u2550\u2550\u2550\u2550\u2550\u2550\u2550\u2550\u2550\u2550\u2550\u2550\u2550\u2550\u2550\u2550\u2550\u2550\u2550\u2550\u2550\u2550\u2550\u2550\u2550\n",
        "Cape Verde                         \u2550\u2550\u2550\u2550\n",
        "Slovenia                           \u2550\u2550\u2550\u2550\u2550\u2550\u2550\u2550\u2550\u2550\u2550\u2550\u2550\u2550\u2550\u2550\u2550\u2550\u2550\u2550\u2550\u2550\u2550\u2550\n",
        "Guatemala                          \u2550\u2550\u2550\u2550\u2550\u2550\u2550\n",
        "Bosnia and Herzegovina             \u2550\u2550\u2550\u2550\u2550\u2550\u2550\n",
        "Kuwait                             \u2550\u2550\u2550\u2550\u2550\u2550\u2550\u2550\u2550\u2550\u2550\u2550\u2550\u2550\u2550\u2550\u2550\u2550\u2550\u2550\u2550\u2550\u2550\u2550\u2550\u2550\u2550\u2550\u2550\u2550\u2550\u2550\u2550\u2550\u2550\u2550\u2550\u2550\u2550\u2550\u2550\u2550\u2550\u2550\u2550\u2550\u2550\u2550\u2550\u2550\u2550\u2550\u2550\u2550\u2550\u2550\u2550\u2550\u2550\u2550\u2550\u2550\u2550\u2550\u2550\u2550\u2550\u2550\u2550\u2550\u2550\u2550\u2550\u2550\u2550\u2550\u2550\u2550\u2550\n",
        "Germany                            \u2550\u2550\u2550\u2550\u2550\u2550\u2550\u2550\u2550\u2550\u2550\u2550\u2550\u2550\u2550\u2550\u2550\u2550\u2550\u2550\u2550\u2550\u2550\u2550\u2550\u2550\u2550\u2550\u2550\u2550\u2550\u2550\u2550\u2550\u2550\u2550\u2550\u2550\u2550\n",
        "Spain                              \u2550\u2550\u2550\u2550\u2550\u2550\u2550\u2550\u2550\u2550\u2550\u2550\u2550\u2550\u2550\u2550\u2550\u2550\u2550\u2550\u2550\u2550\u2550\u2550\u2550\u2550\u2550\u2550\u2550\u2550\n",
        "Australia                          \u2550\u2550\u2550\u2550\u2550\u2550\u2550\u2550\u2550\u2550\u2550\u2550\u2550\u2550\u2550\u2550\u2550\u2550\u2550\u2550\u2550\u2550\u2550\u2550\u2550\u2550\u2550\u2550\u2550\u2550\u2550\u2550\u2550\u2550\u2550\u2550\u2550\n",
        "Liberia                            \n",
        "Maldives                           \u2550\u2550\u2550\u2550\u2550\u2550\u2550\n",
        "Paraguay                           \u2550\u2550\u2550\u2550\u2550\u2550\n",
        "Jamaica                            \u2550\u2550\u2550\u2550\u2550\u2550\u2550\u2550\u2550\n",
        "Oman                               \u2550\u2550\u2550\u2550\u2550\u2550\u2550\u2550\u2550\u2550\u2550\u2550\u2550\u2550\u2550\u2550\u2550\u2550\u2550\u2550\u2550\u2550\u2550\u2550\u2550\u2550\u2550\u2550\u2550\u2550\u2550\u2550\u2550\u2550\u2550\u2550\u2550\n",
        "Tanzania                           \u2550\n",
        "Costa Rica                         \u2550\u2550\u2550\u2550\u2550\u2550\u2550\u2550\u2550\u2550\n",
        "Gabon                              \u2550\u2550\u2550\u2550\u2550\u2550\u2550\u2550\u2550\u2550\u2550\n",
        "Monaco                             \u2550\u2550\u2550\u2550\u2550\u2550\u2550\u2550\u2550\u2550\u2550\u2550\u2550\u2550\u2550\u2550\u2550\u2550\u2550\u2550\u2550\u2550\u2550\u2550\u2550\u2550\u2550\u2550\u2550\u2550\u2550\u2550\u2550\u2550\u2550\u2550\u2550\u2550\u2550\u2550\n",
        "Bahamas                            \u2550\u2550\u2550\u2550\u2550\u2550\u2550\u2550\u2550\u2550\u2550\u2550\u2550\u2550\u2550\u2550\u2550\u2550\u2550\u2550\u2550\u2550\u2550\u2550\u2550\u2550\n",
        "New Zealand                        \u2550\u2550\u2550\u2550\u2550\u2550\u2550\u2550\u2550\u2550\u2550\u2550\u2550\u2550\u2550\u2550\u2550\u2550\u2550\u2550\u2550\u2550\u2550\u2550\u2550\u2550\u2550\u2550\u2550\u2550\n",
        "Pakistan                           \u2550\u2550\u2550\n",
        "Albania                            \u2550\u2550\u2550\u2550\u2550\u2550\n",
        "Samoa                              \u2550\u2550\u2550\u2550\n",
        "United Arab Emirates               \u2550\u2550\u2550\u2550\u2550\u2550\u2550\u2550\u2550\u2550\u2550\u2550\u2550\u2550\u2550\u2550\u2550\u2550\u2550\u2550\u2550\u2550\u2550\u2550\u2550\u2550\u2550\u2550\u2550\u2550\u2550\u2550\u2550\u2550\u2550\u2550\u2550\u2550\u2550\u2550\u2550\u2550\u2550\u2550\u2550\u2550\u2550\u2550\u2550\u2550\u2550\u2550\u2550\u2550\u2550\u2550\u2550\u2550\n",
        "India                              \u2550\u2550\n",
        "Azerbaijan                         \u2550\u2550\u2550\u2550\n",
        "Lesotho                            \u2550\n",
        "Saint Vincent and the Grenadines   \u2550\u2550\u2550\u2550\u2550\u2550\u2550\u2550\u2550\n",
        "Kenya                              \u2550\n",
        "Tajikistan                         \u2550\n",
        "Turkey                             \u2550\u2550\u2550\u2550\u2550\u2550\u2550\u2550\u2550\u2550\u2550\u2550\u2550\u2550\n",
        "Afghanistan                        \n",
        "Fiji                               \u2550\u2550\u2550\u2550\u2550\u2550\u2550\n",
        "Bangladesh                         \u2550\n",
        "Mauritania                         \u2550\u2550\n",
        "Solomon Islands                    \u2550\n",
        "Saint Lucia                        \u2550\u2550\u2550\u2550\u2550\u2550\u2550\u2550\u2550\n",
        "Hungary                            \u2550\u2550\u2550\u2550\u2550\u2550\u2550\u2550\u2550\u2550\u2550\u2550\u2550\u2550\u2550\u2550\u2550\u2550\u2550\n",
        "San Marino                         \u2550\u2550\u2550\u2550\u2550\u2550\u2550\u2550\u2550\u2550\u2550\u2550\u2550\u2550\u2550\u2550\u2550\u2550\u2550\u2550\u2550\u2550\u2550\u2550\u2550\u2550\u2550\u2550\u2550\u2550\u2550\u2550\u2550\u2550\u2550\u2550\u2550\u2550\u2550\u2550\u2550\u2550\u2550\n",
        "Mongolia                           \u2550\u2550\u2550\u2550\n",
        "France                             \u2550\u2550\u2550\u2550\u2550\u2550\u2550\u2550\u2550\u2550\u2550\u2550\u2550\u2550\u2550\u2550\u2550\u2550\u2550\u2550\u2550\u2550\u2550\u2550\u2550\u2550\u2550\u2550\u2550\u2550\u2550\u2550\u2550\u2550\u2550\u2550\u2550\n",
        "Rwanda                             \n",
        "Somalia                            \n",
        "Peru                               \u2550\u2550\u2550\u2550\u2550\u2550\u2550\n",
        "Laos                               \u2550\u2550\n",
        "Nauru                              \u2550\u2550\u2550\u2550\u2550\u2550\u2550\n",
        "Norway                             \u2550\u2550\u2550\u2550\u2550\u2550\u2550\u2550\u2550\u2550\u2550\u2550\u2550\u2550\u2550\u2550\u2550\u2550\u2550\u2550\u2550\u2550\u2550\u2550\u2550\u2550\u2550\u2550\u2550\u2550\u2550\u2550\u2550\u2550\u2550\u2550\u2550\u2550\u2550\u2550\u2550\u2550\u2550\u2550\u2550\u2550\u2550\u2550\u2550\u2550\u2550\u2550\u2550\u2550\u2550\u2550\u2550\u2550\u2550\u2550\u2550\u2550\n",
        "Malawi                             \n",
        "Benin                              \u2550\n",
        "Singapore                          \u2550\u2550\u2550\u2550\u2550\u2550\u2550\u2550\u2550\u2550\u2550\u2550\u2550\u2550\u2550\u2550\u2550\u2550\u2550\u2550\u2550\u2550\u2550\u2550\u2550\u2550\u2550\u2550\u2550\u2550\u2550\u2550\u2550\u2550\u2550\u2550\u2550\u2550\u2550\u2550\u2550\u2550\u2550\u2550\u2550\u2550\u2550\u2550\u2550\u2550\u2550\u2550\u2550\u2550\u2550\u2550\u2550\u2550\n",
        "Montenegro                         \u2550\u2550\u2550\u2550\u2550\u2550\u2550\u2550\u2550\n",
        "Saint Kitts and Nevis              \u2550\u2550\u2550\u2550\u2550\u2550\u2550\u2550\u2550\u2550\u2550\u2550\u2550\u2550\u2550\u2550\u2550\u2550\u2550\u2550\n",
        "Togo                               \u2550\n",
        "China                              \u2550\u2550\u2550\u2550\n",
        "Armenia                            \u2550\u2550\u2550\n",
        "Ireland                            \u2550\u2550\u2550\u2550\u2550\u2550\u2550\u2550\u2550\u2550\u2550\u2550\u2550\u2550\u2550\u2550\u2550\u2550\u2550\u2550\u2550\u2550\u2550\u2550\u2550\u2550\u2550\u2550\u2550\u2550\u2550\u2550\u2550\u2550\u2550\u2550\u2550\u2550\u2550\u2550\n",
        "Ukraine                            \u2550\u2550\u2550\u2550\u2550\n",
        "Bahrain                            \u2550\u2550\u2550\u2550\u2550\u2550\u2550\u2550\u2550\u2550\u2550\u2550\u2550\u2550\u2550\u2550\u2550\u2550\u2550\u2550\u2550\u2550\u2550\u2550\u2550\u2550\u2550\u2550\u2550\u2550\u2550\u2550\u2550\u2550\u2550\u2550\u2550\u2550\u2550\u2550\n",
        "Tonga                              \u2550\u2550\u2550\u2550\u2550\n",
        "Finland                            \u2550\u2550\u2550\u2550\u2550\u2550\u2550\u2550\u2550\u2550\u2550\u2550\u2550\u2550\u2550\u2550\u2550\u2550\u2550\u2550\u2550\u2550\u2550\u2550\u2550\u2550\u2550\u2550\u2550\u2550\u2550\u2550\u2550\u2550\u2550\u2550\n",
        "Libya                              \u2550\u2550\u2550\u2550\u2550\u2550\u2550\u2550\u2550\u2550\u2550\u2550\u2550\u2550\u2550\u2550\u2550\u2550\u2550\u2550\u2550\u2550\u2550\u2550\u2550\n",
        "Indonesia                          \u2550\u2550\u2550\u2550\u2550\n",
        "Mauritius                          \u2550\u2550\u2550\u2550\u2550\u2550\u2550\u2550\u2550\u2550\u2550\n",
        "Liechtenstein                      \u2550\u2550\u2550\u2550\u2550\u2550\u2550\u2550\u2550\u2550\u2550\u2550\u2550\u2550\u2550\u2550\u2550\u2550\u2550\u2550\u2550\u2550\u2550\u2550\u2550\u2550\u2550\u2550\u2550\u2550\u2550\u2550\u2550\u2550\u2550\u2550\u2550\u2550\u2550\u2550\u2550\u2550\u2550\u2550\u2550\u2550\u2550\u2550\u2550\u2550\u2550\u2550\u2550\u2550\u2550\u2550\u2550\u2550\u2550\u2550\u2550\u2550\u2550\u2550\u2550\u2550\u2550\u2550\u2550\u2550\u2550\u2550\u2550\u2550\u2550\u2550\u2550\u2550\u2550\u2550\u2550\u2550\u2550\u2550\u2550\u2550\u2550\u2550\u2550\u2550\n",
        "Vietnam                            \u2550\u2550\n",
        "Mali                               \u2550\n",
        "Bulgaria                           \u2550\u2550\u2550\u2550\u2550\u2550\u2550\u2550\u2550\u2550\n",
        "United States                      \u2550\u2550\u2550\u2550\u2550\u2550\u2550\u2550\u2550\u2550\u2550\u2550\u2550\u2550\u2550\u2550\u2550\u2550\u2550\u2550\u2550\u2550\u2550\u2550\u2550\u2550\u2550\u2550\u2550\u2550\u2550\u2550\u2550\u2550\u2550\u2550\u2550\u2550\u2550\u2550\u2550\u2550\u2550\u2550\u2550\u2550\u2550\u2550\u2550\u2550\n",
        "Romania                            \u2550\u2550\u2550\u2550\u2550\u2550\u2550\u2550\u2550\u2550\u2550\u2550\n",
        "Angola                             \u2550\u2550\u2550\n",
        "Chad                               \u2550\n",
        "South Africa                       \u2550\u2550\u2550\u2550\u2550\u2550\u2550\u2550\u2550\n",
        "Nicaragua                          \u2550\u2550\u2550\n",
        "Sweden                             \u2550\u2550\u2550\u2550\u2550\u2550\u2550\u2550\u2550\u2550\u2550\u2550\u2550\u2550\u2550\u2550\u2550\u2550\u2550\u2550\u2550\u2550\u2550\u2550\u2550\u2550\u2550\u2550\u2550\u2550\u2550\u2550\u2550\u2550\u2550\u2550\u2550\u2550\n",
        "Malaysia                           \u2550\u2550\u2550\u2550\u2550\u2550\u2550\u2550\u2550\u2550\u2550\u2550\u2550\u2550\u2550\u2550\u2550\n",
        "Senegal                            \u2550\u2550\n",
        "Mozambique                         \n",
        "Uganda                             \u2550\n",
        "Japan                              \u2550\u2550\u2550\u2550\u2550\u2550\u2550\u2550\u2550\u2550\u2550\u2550\u2550\u2550\u2550\u2550\u2550\u2550\u2550\u2550\u2550\u2550\u2550\u2550\u2550\u2550\u2550\u2550\u2550\u2550\u2550\u2550\u2550\u2550\u2550\n",
        "Niger                              \n",
        "Brazil                             \u2550\u2550\u2550\u2550\u2550\u2550\u2550\u2550\u2550\u2550\u2550\u2550\n",
        "Guinea                             \u2550\n",
        "Panama                             \u2550\u2550\u2550\u2550\u2550\u2550\u2550\u2550\u2550\n",
        "Guyana                             \u2550\u2550\u2550\u2550\n",
        "Qatar                              \u2550\u2550\u2550\u2550\u2550\u2550\u2550\u2550\u2550\u2550\u2550\u2550\u2550\u2550\u2550\u2550\u2550\u2550\u2550\u2550\u2550\u2550\u2550\u2550\u2550\u2550\u2550\u2550\u2550\u2550\u2550\u2550\u2550\u2550\u2550\u2550\u2550\u2550\u2550\u2550\u2550\u2550\u2550\u2550\u2550\u2550\u2550\u2550\u2550\u2550\u2550\u2550\u2550\u2550\u2550\u2550\u2550\u2550\u2550\u2550\u2550\u2550\u2550\u2550\u2550\u2550\u2550\u2550\u2550\u2550\u2550\u2550\u2550\u2550\u2550\u2550\u2550\u2550\u2550\u2550\u2550\u2550\u2550\u2550\u2550\u2550\u2550\u2550\u2550\u2550\u2550\u2550\u2550\u2550\u2550\u2550\u2550\u2550\u2550\n",
        "Luxembourg                         \u2550\u2550\u2550\u2550\u2550\u2550\u2550\u2550\u2550\u2550\u2550\u2550\u2550\u2550\u2550\u2550\u2550\u2550\u2550\u2550\u2550\u2550\u2550\u2550\u2550\u2550\u2550\u2550\u2550\u2550\u2550\u2550\u2550\u2550\u2550\u2550\u2550\u2550\u2550\u2550\u2550\u2550\u2550\u2550\u2550\u2550\u2550\u2550\u2550\u2550\u2550\u2550\u2550\u2550\u2550\u2550\u2550\u2550\u2550\u2550\u2550\u2550\u2550\u2550\u2550\u2550\u2550\u2550\u2550\u2550\u2550\u2550\u2550\u2550\u2550\u2550\u2550\u2550\u2550\u2550\u2550\u2550\u2550\u2550\u2550\u2550\u2550\u2550\n",
        "Andorra                            \u2550\u2550\u2550\u2550\u2550\u2550\u2550\u2550\u2550\u2550\u2550\u2550\u2550\u2550\u2550\u2550\u2550\u2550\u2550\u2550\u2550\u2550\u2550\u2550\u2550\u2550\u2550\u2550\u2550\u2550\u2550\u2550\u2550\n",
        "Palau                              \u2550\u2550\u2550\u2550\u2550\u2550\u2550\u2550\u2550\u2550\u2550\u2550\u2550\n",
        "Nigeria                            \u2550\u2550\n",
        "Ecuador                            \u2550\u2550\u2550\u2550\u2550\u2550\u2550\n",
        "Brunei                             \u2550\u2550\u2550\u2550\u2550\u2550\u2550\u2550\u2550\u2550\u2550\u2550\u2550\u2550\u2550\u2550\u2550\u2550\u2550\u2550\u2550\u2550\u2550\u2550\u2550\u2550\u2550\u2550\u2550\u2550\u2550\u2550\u2550\u2550\u2550\u2550\u2550\u2550\u2550\u2550\u2550\u2550\u2550\u2550\u2550\u2550\u2550\u2550\u2550\u2550\u2550\u2550\u2550\u2550\u2550\u2550\u2550\u2550\u2550\u2550\u2550\u2550\u2550\u2550\u2550\u2550\u2550\u2550\u2550\u2550\u2550\u2550\u2550\u2550\u2550\u2550\u2550\u2550\u2550\u2550\u2550\n",
        "Belarus                            \u2550\u2550\u2550\u2550\u2550\u2550\u2550\u2550\n",
        "Iran                               \u2550\u2550\u2550\u2550\u2550\u2550\u2550\u2550\u2550\u2550\u2550\n",
        "Algeria                            \u2550\u2550\u2550\u2550\u2550\u2550\u2550\u2550\u2550\u2550\u2550\n",
        "El Salvador                        \u2550\u2550\u2550\u2550\u2550\u2550\u2550\n",
        "Tuvalu                             \u2550\u2550\u2550\u2550\n",
        "Marshall Islands                   \u2550\u2550\u2550\n",
        "Chile                              \u2550\u2550\u2550\u2550\u2550\u2550\u2550\u2550\u2550\u2550\u2550\u2550\u2550\u2550\u2550\n",
        "Belgium                            \u2550\u2550\u2550\u2550\u2550\u2550\u2550\u2550\u2550\u2550\u2550\u2550\u2550\u2550\u2550\u2550\u2550\u2550\u2550\u2550\u2550\u2550\u2550\u2550\u2550\u2550\u2550\u2550\u2550\u2550\u2550\u2550\u2550\u2550\u2550\u2550\u2550\u2550\u2550\n",
        "Thailand                           \u2550\u2550\u2550\u2550\u2550\u2550\u2550\u2550\u2550\n",
        "Haiti                              \u2550\n",
        "Iraq                               \u2550\u2550\u2550\u2550\u2550\u2550\u2550\u2550\u2550\u2550\u2550\u2550\u2550\u2550\n",
        "Sierra Leone                       \n",
        "Georgia                            \u2550\u2550\u2550\n",
        "Gambia                             \u2550\n",
        "Philippines                        \u2550\u2550\u2550\u2550\n",
        "Moldova                            \u2550\u2550\n",
        "Morocco                            \u2550\u2550\u2550\u2550\u2550\n",
        "Namibia                            \u2550\u2550\u2550\u2550\u2550\u2550\u2550\n",
        "Guinea-Bissau                      \u2550\n",
        "Kiribati                           \u2550\u2550\n",
        "Switzerland                        \u2550\u2550\u2550\u2550\u2550\u2550\u2550\u2550\u2550\u2550\u2550\u2550\u2550\u2550\u2550\u2550\u2550\u2550\u2550\u2550\u2550\u2550\u2550\u2550\u2550\u2550\u2550\u2550\u2550\u2550\u2550\u2550\u2550\u2550\u2550\u2550\u2550\u2550\u2550\u2550\u2550\u2550\u2550\u2550\u2550\u2550\u2550\u2550\u2550\u2550\u2550\n",
        "Grenada                            \u2550\u2550\u2550\u2550\u2550\u2550\u2550\u2550\u2550\u2550\u2550\u2550\n",
        "Seychelles                         \u2550\u2550\u2550\u2550\u2550\u2550\u2550\u2550\u2550\u2550\u2550\u2550\u2550\u2550\u2550\u2550\u2550\u2550\u2550\u2550\u2550\n",
        "Portugal                           \u2550\u2550\u2550\u2550\u2550\u2550\u2550\u2550\u2550\u2550\u2550\u2550\u2550\u2550\u2550\u2550\u2550\u2550\u2550\u2550\u2550\u2550\u2550\u2550\u2550\u2550\u2550\n",
        "Estonia                            \u2550\u2550\u2550\u2550\u2550\u2550\u2550\u2550\u2550\u2550\u2550\u2550\u2550\u2550\u2550\n",
        "Uruguay                            \u2550\u2550\u2550\u2550\u2550\u2550\u2550\u2550\u2550\u2550\u2550\u2550\u2550\n",
        "Lebanon                            \u2550\u2550\u2550\u2550\u2550\u2550\u2550\n",
        "Uzbekistan                         \u2550\u2550\n",
        "Tunisia                            \u2550\u2550\u2550\u2550\u2550\u2550\u2550\u2550\n",
        "Djibouti                           \u2550\u2550\n",
        "Antigua and Barbuda                \u2550\u2550\u2550\u2550\u2550\u2550\u2550\u2550\u2550\u2550\u2550\u2550\u2550\u2550\u2550\u2550\u2550\u2550\u2550\n",
        "Dominica                           \u2550\u2550\u2550\u2550\u2550\u2550\u2550\u2550\n",
        "Colombia                           \u2550\u2550\u2550\u2550\u2550\u2550\u2550\u2550\u2550\n",
        "Burundi                            \n",
        "Cyprus                             \u2550\u2550\u2550\u2550\u2550\u2550\u2550\u2550\u2550\u2550\u2550\u2550\u2550\u2550\u2550\u2550\u2550\u2550\u2550\u2550\u2550\u2550\u2550\u2550\u2550\u2550\u2550\u2550\u2550\u2550\u2550\u2550\n",
        "Barbados                           \u2550\u2550\u2550\u2550\u2550\u2550\u2550\u2550\u2550\u2550\u2550\u2550\u2550\u2550\u2550\n",
        "Madagascar                         \u2550\n",
        "Italy                              \u2550\u2550\u2550\u2550\u2550\u2550\u2550\u2550\u2550\u2550\u2550\u2550\u2550\u2550\u2550\u2550\u2550\u2550\u2550\u2550\u2550\u2550\u2550\u2550\u2550\u2550\u2550\u2550\u2550\u2550\u2550\u2550\u2550\u2550\u2550\u2550\u2550\n",
        "Bhutan                             \u2550\u2550\u2550\n",
        "Sudan                              \u2550\u2550\n",
        "Nepal                              \u2550\n",
        "Malta                              \u2550\u2550\u2550\u2550\u2550\u2550\u2550\u2550\u2550\u2550\u2550\u2550\u2550\u2550\u2550\u2550\u2550\u2550\u2550\u2550\u2550\u2550\u2550\u2550\u2550\u2550\u2550\u2550\n",
        "Netherlands                        \u2550\u2550\u2550\u2550\u2550\u2550\u2550\u2550\u2550\u2550\u2550\u2550\u2550\u2550\u2550\u2550\u2550\u2550\u2550\u2550\u2550\u2550\u2550\u2550\u2550\u2550\u2550\u2550\u2550\u2550\u2550\u2550\u2550\u2550\u2550\u2550\u2550\u2550\u2550\u2550\u2550\u2550\n",
        "Suriname                           \u2550\u2550\u2550\u2550\u2550\u2550\u2550\u2550\u2550\u2550\n",
        "Venezuela                          \u2550\u2550\u2550\u2550\u2550\u2550\u2550\u2550\u2550\u2550\u2550\u2550\u2550\u2550\u2550\n",
        "Israel                             \u2550\u2550\u2550\u2550\u2550\u2550\u2550\u2550\u2550\u2550\u2550\u2550\u2550\u2550\u2550\u2550\u2550\u2550\u2550\u2550\u2550\u2550\u2550\u2550\u2550\u2550\u2550\n",
        "Iceland                            \u2550\u2550\u2550\u2550\u2550\u2550\u2550\u2550\u2550\u2550\u2550\u2550\u2550\u2550\u2550\u2550\u2550\u2550\u2550\u2550\u2550\u2550\u2550\u2550\u2550\u2550\u2550\u2550\u2550\u2550\u2550\u2550\u2550\u2550\u2550\u2550\u2550\u2550\n",
        "Zambia                             \u2550\u2550\n",
        "Austria                            \u2550\u2550\u2550\u2550\u2550\u2550\u2550\u2550\u2550\u2550\u2550\u2550\u2550\u2550\u2550\u2550\u2550\u2550\u2550\u2550\u2550\u2550\u2550\u2550\u2550\u2550\u2550\u2550\u2550\u2550\u2550\u2550\u2550\u2550\u2550\u2550\u2550\u2550\u2550\u2550\u2550\n",
        "Papua New Guinea                   \u2550\u2550\n",
        "Zimbabwe                           \u2550\u2550\n",
        "Jordan                             \u2550\u2550\u2550\u2550\u2550\u2550\u2550\u2550\n",
        "Vanuatu                            \u2550\u2550\u2550\n",
        "Denmark                            \u2550\u2550\u2550\u2550\u2550\u2550\u2550\u2550\u2550\u2550\u2550\u2550\u2550\u2550\u2550\u2550\u2550\u2550\u2550\u2550\u2550\u2550\u2550\u2550\u2550\u2550\u2550\u2550\u2550\u2550\u2550\u2550\u2550\u2550\u2550\u2550\u2550\u2550\u2550\u2550\u2550\u2550\u2550\u2550\n",
        "Kazakhstan                         \u2550\u2550\u2550\u2550\u2550\u2550\u2550\u2550\u2550\u2550\n",
        "Poland                             \u2550\u2550\u2550\u2550\u2550\u2550\u2550\u2550\u2550\u2550\u2550\u2550\u2550\u2550\u2550\n",
        "Eritrea                            \u2550\n",
        "Kyrgyzstan                         \u2550\u2550\n",
        "Mexico                             \u2550\u2550\u2550\u2550\u2550\u2550\u2550\u2550\u2550\u2550\u2550\u2550\u2550\u2550\u2550\u2550\n",
        "Trinidad and Tobago                \u2550\u2550\u2550\u2550\u2550\u2550\u2550\u2550\u2550\u2550\u2550\u2550\u2550\u2550\u2550\u2550\u2550\u2550\u2550\n",
        "Latvia                             \u2550\u2550\u2550\u2550\u2550\u2550\u2550\u2550\u2550\u2550\u2550\u2550\u2550\n",
        "South Sudan                        \u2550\u2550\n",
        "Syria                              \u2550\u2550\u2550\u2550\n",
        "Honduras                           \u2550\u2550\u2550\u2550\n",
        "Equatorial Guinea                  \u2550\u2550\u2550\u2550\u2550\u2550\u2550\u2550\u2550\u2550\u2550\u2550\u2550\n",
        "Egypt                              \u2550\u2550\u2550\u2550\u2550\u2550\u2550\u2550\n",
        "Cuba                               \u2550\u2550\u2550\u2550\u2550\u2550\u2550\u2550\u2550\u2550\u2550\u2550\n",
        "Serbia                             \u2550\u2550\u2550\u2550\u2550\u2550\u2550\u2550\n",
        "Comoros                            \u2550\n",
        "United Kingdom                     \u2550\u2550\u2550\u2550\u2550\u2550\u2550\u2550\u2550\u2550\u2550\u2550\u2550\u2550\u2550\u2550\u2550\u2550\u2550\u2550\u2550\u2550\u2550\u2550\u2550\u2550\u2550\u2550\u2550\u2550\u2550\u2550\u2550\u2550\n",
        "Greece                             \u2550\u2550\u2550\u2550\u2550\u2550\u2550\u2550\u2550\u2550\u2550\u2550\u2550\u2550\u2550\u2550\u2550\u2550\u2550\u2550\u2550\u2550\u2550\u2550\u2550\u2550\n",
        "Sri Lanka                          \u2550\u2550\u2550\u2550\u2550\n",
        "Croatia                            \u2550\u2550\u2550\u2550\u2550\u2550\u2550\u2550\u2550\u2550\u2550\u2550\u2550\u2550\u2550\u2550\u2550\n",
        "Botswana                           \u2550\u2550\u2550\u2550\u2550\u2550\u2550\u2550\u2550\u2550\u2550\n"
       ]
      }
     ],
     "prompt_number": 9
    },
    {
     "cell_type": "code",
     "collapsed": false,
     "input": [
      "from scipy.stats import norm\n",
      "\n",
      "def ratioNormals(diff,a):\n",
      "    #diff: difference in means\n",
      "    #a: cut-off values\n",
      "    \n",
      "    return (1-norm(diff,1).cdf(a))/(1-norm(0,1).cdf(a))\n",
      "\n"
     ],
     "language": "python",
     "metadata": {},
     "outputs": [],
     "prompt_number": 10
    },
    {
     "cell_type": "code",
     "collapsed": false,
     "input": [
      "import BeautifulSoup\n",
      "import requests\n",
      "\n",
      "population_url = 'http://en.wikipedia.org/wiki/List_of_countries_by_past_and_future_population'\n",
      "\n",
      "html = requests.get(population_url).content\n",
      "soup = BeautifulSoup.BeautifulSoup(html)"
     ],
     "language": "python",
     "metadata": {},
     "outputs": [],
     "prompt_number": 84
    },
    {
     "cell_type": "code",
     "collapsed": false,
     "input": [
      "def gettables():\n",
      "    table_arr=[]\n",
      "    for table in soup.findAll('table'):\n",
      "        if table.get('class')=='sortable wikitable':\n",
      "            table_arr.append(table)\n",
      "    return table_arr\n",
      "\n",
      "def getyears(table):\n",
      "    years = []\n",
      "    for year in table.findAll('tr')[0].findAll('th'):\n",
      "        try:\n",
      "            years.append(int(year.contents[0]))\n",
      "        except:\n",
      "            pass\n",
      "    return years\n",
      "\n",
      "\n",
      "tables = gettables()\n",
      "\n",
      "#Only look at table 3\n",
      "table = tables[2]\n",
      "years = getyears(table)\n",
      "countries = [country for country in data.columns]\n",
      "population_data = pd.DataFrame(columns=countries,index=years)"
     ],
     "language": "python",
     "metadata": {},
     "outputs": [],
     "prompt_number": 102
    },
    {
     "cell_type": "code",
     "collapsed": false,
     "input": [
      "#Fill population_data df\n",
      "def isint(x):\n",
      "    try:\n",
      "        int(x)\n",
      "        return True\n",
      "    except:\n",
      "        return False\n",
      "\n",
      "def fillpopdata():\n",
      "#Create mask and map\n",
      "    mask = []\n",
      "    year = []\n",
      "    i=0\n",
      "    for th in table.findAll('th'):\n",
      "        if isint(th.contents[0]):\n",
      "            mask.append(True)\n",
      "            year.append(int(th.contents[0]))\n",
      "        else:\n",
      "            mask.append(False)\n",
      "            year.append(0)\n",
      "    \n",
      "    for tr in table.findAll('tr'):\n",
      "        td_list =  [td for td in tr.findAll('td')]\n",
      "        if len(td_list)>0:\n",
      "            country = td_list[0].findAll('a')[0].contents[0]\n",
      "            for i in range(1,len(td_list)):\n",
      "                if(mask[i]):\n",
      "                    pop = int(td_list[i].contents[0].replace(',',''))\n",
      "                    if country in population_data.columns:\n",
      "                        population_data[country][year[i]] = pop\n",
      "                    \n",
      "\n",
      "fillpopdata()\n",
      "\n"
     ],
     "language": "python",
     "metadata": {},
     "outputs": [],
     "prompt_number": 108
    },
    {
     "cell_type": "code",
     "collapsed": false,
     "input": [
      "avgAsia = 0\n",
      "avgSA = 0\n",
      "totalPopAsia = 0\n",
      "totalPopSA = 0\n",
      "\n",
      "pAsia = 0\n",
      "tAsia = 0\n",
      "pSA =0\n",
      "tSA = 0\n",
      "#Portion of countries with income higher than 10000 and total number of countries taken into account\n",
      "\n",
      "year = 2005\n",
      "#get weighted averages for 2005\n",
      "for i,r in countries_raw.iterrows():\n",
      "    country = r['Country']\n",
      "    region = r['Region']\n",
      "    if country in population_data.columns:\n",
      "        if isint(population_data[country][year]) and isint(data[country][year]):\n",
      "            if region == \"ASIA\" or region == \"OCEANIA\":\n",
      "                avgAsia = avgAsia + data[country][year]*population_data[country][year]\n",
      "                totalPopAsia = totalPopAsia + population_data[country][year]\n",
      "                if data[country][year] > 15000:\n",
      "                    pAsia = pAsia + 1\n",
      "                tAsia = tAsia + 1\n",
      "            elif region == \"SOUTH AMERICA\":\n",
      "                avgSA = avgSA + data[country][year]*population_data[country][year]\n",
      "                totalPopSA = totalPopSA + population_data[country][year]\n",
      "                if data[country][year] > 15000:\n",
      "                    pSA = pSA + 1\n",
      "                tSA = tSA + 1\n",
      "avgAsia = avgAsia/totalPopAsia\n",
      "avgSA = avgSA/totalPopSA\n",
      "\n",
      "pAsia = float(pAsia)/tAsia\n",
      "pSA = float(pSA)/tSA\n",
      "print \"Average income for Asia is \", avgAsia\n",
      "print \"Average income for South America is \",avgSA\n",
      "print \"\"\n",
      "print \"Proportion of countries in Asia with income higher than 10000 is \",pAsia\n",
      "print \"Proportion of countries in South America with income higher than 10000 is \",pSA"
     ],
     "language": "python",
     "metadata": {},
     "outputs": [
      {
       "output_type": "stream",
       "stream": "stdout",
       "text": [
        "Average income for Asia is  7216.22364552\n",
        "Average income for South America is  11297.9424368\n",
        "\n",
        "Proportion of countries in Asia with income higher than 10000 is  0.294117647059\n",
        "Proportion of countries in South America with income higher than 10000 is  0.0833333333333\n"
       ]
      }
     ],
     "prompt_number": 140
    },
    {
     "cell_type": "code",
     "collapsed": false,
     "input": [],
     "language": "python",
     "metadata": {},
     "outputs": []
    }
   ],
   "metadata": {}
  }
 ]
}